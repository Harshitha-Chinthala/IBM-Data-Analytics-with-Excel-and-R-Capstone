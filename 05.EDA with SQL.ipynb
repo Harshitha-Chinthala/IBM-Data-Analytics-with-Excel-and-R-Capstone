{
 "cells": [
  {
   "cell_type": "markdown",
   "metadata": {},
   "source": [
    "<center>\n",
    "<img src=\"https://cf-courses-data.s3.us.cloud-object-storage.appdomain.cloud/IBMDeveloperSkillsNetwork-RP0321EN-SkillsNetwork/labs/module_1/images/SN_web_lightmode.png\" width=\"300\"> \n",
    "</center>\n",
    "\n",
    "# Assignment: Exploratory Data Analysis with SQL\n",
    "Estimated time needed: 60 minutes\n",
    "\n",
    "\n",
    "# Introduction\n",
    "Using this R notebook you will perform exploratory data analysis using SQL queries with the RSQLite R package. You will be graded on the accuracy of your results as well as the content of your SQL queries.\n"
   ]
  },
  {
   "cell_type": "markdown",
   "metadata": {},
   "source": [
    "### Establish your SQL Lite connection\n",
    "\n",
    "#### Install RSQLite package\n",
    "The RSQlite  package needs to be installed in your notebook. Let’s load the RSQLite package by clicking on the following cell and executing it (Shift+Enter):\n"
   ]
  },
  {
   "cell_type": "code",
   "execution_count": 1,
   "metadata": {},
   "outputs": [
    {
     "name": "stderr",
     "output_type": "stream",
     "text": [
      "Warning message in install.packages(\"https://cran.r-project.org/src/contrib/Archive/RSQLite/RSQLite_0.10.0.tar.gz\", :\n",
      "“installation of package ‘/tmp/Rtmp1jy2Vn/downloaded_packages/RSQLite_0.10.0.tar.gz’ had non-zero exit status”\n"
     ]
    }
   ],
   "source": [
    "install.packages(\"https://cran.r-project.org/src/contrib/Archive/RSQLite/RSQLite_0.10.0.tar.gz\", repos = NULL, type = \"source\", dependencies = TRUE) "
   ]
  },
  {
   "cell_type": "markdown",
   "metadata": {},
   "source": [
    "#### Restart Kernel\n",
    "\n",
    "After installing the RSQLite package, it is necessary to restart R Kernel. Click **Kernel** > **Restart Kernel** from the main menu. This will register the newly installed packages. Now proceed to load the RSQLite package. \n"
   ]
  },
  {
   "cell_type": "markdown",
   "metadata": {},
   "source": [
    "#### Load RSQLite\n",
    "Load the 'RSQLite' library, and use the 'dbConnect( )' function as you did in the previous labs to establish the connection to your SQLite database.  \n",
    "You are now ready to start running SQL queries using the RSQLite library as you did in Course 3.\n"
   ]
  },
  {
   "cell_type": "code",
   "execution_count": 8,
   "metadata": {},
   "outputs": [],
   "source": [
    "library(\"RSQLite\")\n",
    "library(\"readr\")"
   ]
  },
  {
   "cell_type": "code",
   "execution_count": 3,
   "metadata": {},
   "outputs": [],
   "source": [
    "# provide your solution here to connect db\n",
    "conn <- dbConnect(SQLite(), \"bike_sharing.db\")"
   ]
  },
  {
   "cell_type": "markdown",
   "metadata": {},
   "source": [
    "Download the following csv files:\n",
    "\n",
    "*   [WORLD_CITIES](https://cf-courses-data.s3.us.cloud-object-storage.appdomain.cloud/IBMDeveloperSkillsNetwork-RP0321EN-SkillsNetwork/labs/datasets/world_cities.csv)\n",
    "\n",
    "*   [BIKE_SHARING_SYSTEMS](https://cf-courses-data.s3.us.cloud-object-storage.appdomain.cloud/IBMDeveloperSkillsNetwork-RP0321EN-SkillsNetwork/labs/datasets/bike_sharing_systems.csv)\n",
    "\n",
    "*   [CITIES_WEATHER_FORECAST](https://cf-courses-data.s3.us.cloud-object-storage.appdomain.cloud/IBMDeveloperSkillsNetwork-RP0321EN-SkillsNetwork/labs/datasets/cities_weather_forecast.csv)\n",
    "\n",
    "*   [SEOUL_BIKE_SHARING](https://cf-courses-data.s3.us.cloud-object-storage.appdomain.cloud/IBMDeveloperSkillsNetwork-RP0321EN-SkillsNetwork/labs/datasets/seoul_bike_sharing.csv)\n",
    "\n",
    "and load the csv's  into 4 tables as mentioned below\n",
    "* SEOUL_BIKE_SHARING\n",
    "\n",
    "* CITIES_WEATHER_FORECAST\n",
    "\n",
    "* BIKE_SHARING_SYSTEMS \n",
    "\n",
    "*  WORLD_CITIES\n",
    "\n",
    "> Hint : Use the read_csv() function and dbWriteTable() functions\n"
   ]
  },
  {
   "cell_type": "markdown",
   "metadata": {},
   "source": [
    "\n",
    "## Task 1 - Record Count\n",
    "#### Determine how many records are in the seoul_bike_sharing dataset.\n"
   ]
  },
  {
   "cell_type": "markdown",
   "metadata": {},
   "source": [
    "### Solution 1\n"
   ]
  },
  {
   "cell_type": "code",
   "execution_count": null,
   "metadata": {},
   "outputs": [],
   "source": [
    "# provide your solution here\n",
    "dbWriteTable(conn, \"SEOUL_BIKE_SHARING\", read_csv(\"seoul_bike_sharing.csv\"))\n",
    "dbWriteTable(conn, \"CITIES_WEATHER_FORECAST\", read_csv(\"cities_weather_forecast.csv\"))\n",
    "dbWriteTable(conn, \"BIKE_SHARING_SYSTEMS\", read_csv(\"bike_sharing_systems.csv\"))\n",
    "dbWriteTable(conn, \"WORLD_CITIES\", read_csv(\"world_cities.csv\"))"
   ]
  },
  {
   "cell_type": "code",
   "execution_count": 12,
   "metadata": {},
   "outputs": [
    {
     "data": {
      "text/html": [
       "<table class=\"dataframe\">\n",
       "<caption>A data.frame: 1 × 1</caption>\n",
       "<thead>\n",
       "\t<tr><th scope=col>record_count</th></tr>\n",
       "\t<tr><th scope=col>&lt;int&gt;</th></tr>\n",
       "</thead>\n",
       "<tbody>\n",
       "\t<tr><td>8465</td></tr>\n",
       "</tbody>\n",
       "</table>\n"
      ],
      "text/latex": [
       "A data.frame: 1 × 1\n",
       "\\begin{tabular}{l}\n",
       " record\\_count\\\\\n",
       " <int>\\\\\n",
       "\\hline\n",
       "\t 8465\\\\\n",
       "\\end{tabular}\n"
      ],
      "text/markdown": [
       "\n",
       "A data.frame: 1 × 1\n",
       "\n",
       "| record_count &lt;int&gt; |\n",
       "|---|\n",
       "| 8465 |\n",
       "\n"
      ],
      "text/plain": [
       "  record_count\n",
       "1 8465        "
      ]
     },
     "metadata": {},
     "output_type": "display_data"
    }
   ],
   "source": [
    "dbGetQuery(conn, \"SELECT COUNT(*) AS record_count FROM SEOUL_BIKE_SHARING\")"
   ]
  },
  {
   "cell_type": "markdown",
   "metadata": {},
   "source": [
    "## Task 2 - Operational Hours\n",
    "#### Determine how many hours had non-zero rented bike count.\n"
   ]
  },
  {
   "cell_type": "markdown",
   "metadata": {},
   "source": [
    "### Solution 2\n"
   ]
  },
  {
   "cell_type": "code",
   "execution_count": 13,
   "metadata": {},
   "outputs": [
    {
     "data": {
      "text/html": [
       "<table class=\"dataframe\">\n",
       "<caption>A data.frame: 1 × 1</caption>\n",
       "<thead>\n",
       "\t<tr><th scope=col>hours_with_rentals</th></tr>\n",
       "\t<tr><th scope=col>&lt;int&gt;</th></tr>\n",
       "</thead>\n",
       "<tbody>\n",
       "\t<tr><td>8465</td></tr>\n",
       "</tbody>\n",
       "</table>\n"
      ],
      "text/latex": [
       "A data.frame: 1 × 1\n",
       "\\begin{tabular}{l}\n",
       " hours\\_with\\_rentals\\\\\n",
       " <int>\\\\\n",
       "\\hline\n",
       "\t 8465\\\\\n",
       "\\end{tabular}\n"
      ],
      "text/markdown": [
       "\n",
       "A data.frame: 1 × 1\n",
       "\n",
       "| hours_with_rentals &lt;int&gt; |\n",
       "|---|\n",
       "| 8465 |\n",
       "\n"
      ],
      "text/plain": [
       "  hours_with_rentals\n",
       "1 8465              "
      ]
     },
     "metadata": {},
     "output_type": "display_data"
    }
   ],
   "source": [
    "# provide your solution here\n",
    "dbGetQuery(conn, \"SELECT COUNT(*) AS hours_with_rentals \n",
    "                 FROM SEOUL_BIKE_SHARING \n",
    "                 WHERE RENTED_BIKE_COUNT > 0\")"
   ]
  },
  {
   "cell_type": "markdown",
   "metadata": {},
   "source": [
    "## Task 3 - Weather Outlook\n",
    "#### Query the the weather forecast for Seoul over the next 3 hours.\n",
    "Recall that the records in the CITIES_WEATHER_FORECAST dataset are 3 hours apart, so we just need the first record from the query.\n"
   ]
  },
  {
   "cell_type": "markdown",
   "metadata": {},
   "source": [
    "### Solution 3\n"
   ]
  },
  {
   "cell_type": "code",
   "execution_count": 24,
   "metadata": {},
   "outputs": [
    {
     "data": {
      "text/html": [
       "<table class=\"dataframe\">\n",
       "<caption>A data.frame: 1 × 12</caption>\n",
       "<thead>\n",
       "\t<tr><th scope=col>CITY</th><th scope=col>WEATHER</th><th scope=col>VISIBILITY</th><th scope=col>TEMP</th><th scope=col>TEMP_MIN</th><th scope=col>TEMP_MAX</th><th scope=col>PRESSURE</th><th scope=col>HUMIDITY</th><th scope=col>WIND_SPEED</th><th scope=col>WIND_DEG</th><th scope=col>SEASON</th><th scope=col>FORECAST_DATETIME</th></tr>\n",
       "\t<tr><th scope=col>&lt;chr&gt;</th><th scope=col>&lt;chr&gt;</th><th scope=col>&lt;dbl&gt;</th><th scope=col>&lt;dbl&gt;</th><th scope=col>&lt;dbl&gt;</th><th scope=col>&lt;dbl&gt;</th><th scope=col>&lt;dbl&gt;</th><th scope=col>&lt;dbl&gt;</th><th scope=col>&lt;dbl&gt;</th><th scope=col>&lt;dbl&gt;</th><th scope=col>&lt;chr&gt;</th><th scope=col>&lt;dbl&gt;</th></tr>\n",
       "</thead>\n",
       "<tbody>\n",
       "\t<tr><td>Seoul</td><td>Clear</td><td>10000</td><td>12.32</td><td>10.91</td><td>12.32</td><td>1015</td><td>50</td><td>2.18</td><td>248</td><td>Spring</td><td>1618574400</td></tr>\n",
       "</tbody>\n",
       "</table>\n"
      ],
      "text/latex": [
       "A data.frame: 1 × 12\n",
       "\\begin{tabular}{llllllllllll}\n",
       " CITY & WEATHER & VISIBILITY & TEMP & TEMP\\_MIN & TEMP\\_MAX & PRESSURE & HUMIDITY & WIND\\_SPEED & WIND\\_DEG & SEASON & FORECAST\\_DATETIME\\\\\n",
       " <chr> & <chr> & <dbl> & <dbl> & <dbl> & <dbl> & <dbl> & <dbl> & <dbl> & <dbl> & <chr> & <dbl>\\\\\n",
       "\\hline\n",
       "\t Seoul & Clear & 10000 & 12.32 & 10.91 & 12.32 & 1015 & 50 & 2.18 & 248 & Spring & 1618574400\\\\\n",
       "\\end{tabular}\n"
      ],
      "text/markdown": [
       "\n",
       "A data.frame: 1 × 12\n",
       "\n",
       "| CITY &lt;chr&gt; | WEATHER &lt;chr&gt; | VISIBILITY &lt;dbl&gt; | TEMP &lt;dbl&gt; | TEMP_MIN &lt;dbl&gt; | TEMP_MAX &lt;dbl&gt; | PRESSURE &lt;dbl&gt; | HUMIDITY &lt;dbl&gt; | WIND_SPEED &lt;dbl&gt; | WIND_DEG &lt;dbl&gt; | SEASON &lt;chr&gt; | FORECAST_DATETIME &lt;dbl&gt; |\n",
       "|---|---|---|---|---|---|---|---|---|---|---|---|\n",
       "| Seoul | Clear | 10000 | 12.32 | 10.91 | 12.32 | 1015 | 50 | 2.18 | 248 | Spring | 1618574400 |\n",
       "\n"
      ],
      "text/plain": [
       "  CITY  WEATHER VISIBILITY TEMP  TEMP_MIN TEMP_MAX PRESSURE HUMIDITY WIND_SPEED\n",
       "1 Seoul Clear   10000      12.32 10.91    12.32    1015     50       2.18      \n",
       "  WIND_DEG SEASON FORECAST_DATETIME\n",
       "1 248      Spring 1618574400       "
      ]
     },
     "metadata": {},
     "output_type": "display_data"
    }
   ],
   "source": [
    "# provide your solution here\n",
    "dbGetQuery(conn, \"SELECT * FROM CITIES_WEATHER_FORECAST \n",
    "                 WHERE CITY = 'Seoul' \n",
    "                 ORDER BY FORECAST_DATETIME \n",
    "                 LIMIT 1\")"
   ]
  },
  {
   "cell_type": "markdown",
   "metadata": {},
   "source": [
    "## Task 4 - Seasons\n",
    "#### Find which seasons are included in the seoul bike sharing dataset.\n"
   ]
  },
  {
   "cell_type": "markdown",
   "metadata": {},
   "source": [
    "### Solution 4\n"
   ]
  },
  {
   "cell_type": "code",
   "execution_count": 15,
   "metadata": {},
   "outputs": [
    {
     "data": {
      "text/html": [
       "<table class=\"dataframe\">\n",
       "<caption>A data.frame: 4 × 1</caption>\n",
       "<thead>\n",
       "\t<tr><th scope=col>SEASONS</th></tr>\n",
       "\t<tr><th scope=col>&lt;chr&gt;</th></tr>\n",
       "</thead>\n",
       "<tbody>\n",
       "\t<tr><td>Winter</td></tr>\n",
       "\t<tr><td>Spring</td></tr>\n",
       "\t<tr><td>Summer</td></tr>\n",
       "\t<tr><td>Autumn</td></tr>\n",
       "</tbody>\n",
       "</table>\n"
      ],
      "text/latex": [
       "A data.frame: 4 × 1\n",
       "\\begin{tabular}{l}\n",
       " SEASONS\\\\\n",
       " <chr>\\\\\n",
       "\\hline\n",
       "\t Winter\\\\\n",
       "\t Spring\\\\\n",
       "\t Summer\\\\\n",
       "\t Autumn\\\\\n",
       "\\end{tabular}\n"
      ],
      "text/markdown": [
       "\n",
       "A data.frame: 4 × 1\n",
       "\n",
       "| SEASONS &lt;chr&gt; |\n",
       "|---|\n",
       "| Winter |\n",
       "| Spring |\n",
       "| Summer |\n",
       "| Autumn |\n",
       "\n"
      ],
      "text/plain": [
       "  SEASONS\n",
       "1 Winter \n",
       "2 Spring \n",
       "3 Summer \n",
       "4 Autumn "
      ]
     },
     "metadata": {},
     "output_type": "display_data"
    }
   ],
   "source": [
    "# provide your solution here\n",
    "dbGetQuery(conn, \"SELECT DISTINCT(SEASONS) FROM SEOUL_BIKE_SHARING\")"
   ]
  },
  {
   "cell_type": "markdown",
   "metadata": {},
   "source": [
    "## Task 5 - Date Range\n",
    "#### Find the first and last dates in the Seoul Bike Sharing dataset.\n"
   ]
  },
  {
   "cell_type": "markdown",
   "metadata": {},
   "source": [
    "### Solution 5\n"
   ]
  },
  {
   "cell_type": "code",
   "execution_count": 16,
   "metadata": {},
   "outputs": [
    {
     "data": {
      "text/html": [
       "<table class=\"dataframe\">\n",
       "<caption>A data.frame: 1 × 2</caption>\n",
       "<thead>\n",
       "\t<tr><th scope=col>first_date</th><th scope=col>last_date</th></tr>\n",
       "\t<tr><th scope=col>&lt;chr&gt;</th><th scope=col>&lt;chr&gt;</th></tr>\n",
       "</thead>\n",
       "<tbody>\n",
       "\t<tr><td>01/01/2018</td><td>31/12/2017</td></tr>\n",
       "</tbody>\n",
       "</table>\n"
      ],
      "text/latex": [
       "A data.frame: 1 × 2\n",
       "\\begin{tabular}{ll}\n",
       " first\\_date & last\\_date\\\\\n",
       " <chr> & <chr>\\\\\n",
       "\\hline\n",
       "\t 01/01/2018 & 31/12/2017\\\\\n",
       "\\end{tabular}\n"
      ],
      "text/markdown": [
       "\n",
       "A data.frame: 1 × 2\n",
       "\n",
       "| first_date &lt;chr&gt; | last_date &lt;chr&gt; |\n",
       "|---|---|\n",
       "| 01/01/2018 | 31/12/2017 |\n",
       "\n"
      ],
      "text/plain": [
       "  first_date last_date \n",
       "1 01/01/2018 31/12/2017"
      ]
     },
     "metadata": {},
     "output_type": "display_data"
    }
   ],
   "source": [
    "# provide your solution here\n",
    "dbGetQuery(conn, \"SELECT MIN(DATE) AS first_date, MAX(DATE) AS last_date \n",
    "                 FROM SEOUL_BIKE_SHARING\")"
   ]
  },
  {
   "cell_type": "markdown",
   "metadata": {},
   "source": [
    "## Task 6 - Subquery - 'all-time high'\n",
    "#### determine which date and hour had the most bike rentals.\n"
   ]
  },
  {
   "cell_type": "markdown",
   "metadata": {},
   "source": [
    "### Solution 6\n"
   ]
  },
  {
   "cell_type": "code",
   "execution_count": 17,
   "metadata": {},
   "outputs": [
    {
     "data": {
      "text/html": [
       "<table class=\"dataframe\">\n",
       "<caption>A data.frame: 1 × 3</caption>\n",
       "<thead>\n",
       "\t<tr><th scope=col>DATE</th><th scope=col>HOUR</th><th scope=col>RENTED_BIKE_COUNT</th></tr>\n",
       "\t<tr><th scope=col>&lt;chr&gt;</th><th scope=col>&lt;dbl&gt;</th><th scope=col>&lt;dbl&gt;</th></tr>\n",
       "</thead>\n",
       "<tbody>\n",
       "\t<tr><td>19/06/2018</td><td>18</td><td>3556</td></tr>\n",
       "</tbody>\n",
       "</table>\n"
      ],
      "text/latex": [
       "A data.frame: 1 × 3\n",
       "\\begin{tabular}{lll}\n",
       " DATE & HOUR & RENTED\\_BIKE\\_COUNT\\\\\n",
       " <chr> & <dbl> & <dbl>\\\\\n",
       "\\hline\n",
       "\t 19/06/2018 & 18 & 3556\\\\\n",
       "\\end{tabular}\n"
      ],
      "text/markdown": [
       "\n",
       "A data.frame: 1 × 3\n",
       "\n",
       "| DATE &lt;chr&gt; | HOUR &lt;dbl&gt; | RENTED_BIKE_COUNT &lt;dbl&gt; |\n",
       "|---|---|---|\n",
       "| 19/06/2018 | 18 | 3556 |\n",
       "\n"
      ],
      "text/plain": [
       "  DATE       HOUR RENTED_BIKE_COUNT\n",
       "1 19/06/2018 18   3556             "
      ]
     },
     "metadata": {},
     "output_type": "display_data"
    }
   ],
   "source": [
    "# provide your solution here\n",
    "dbGetQuery(conn, \"SELECT DATE, HOUR, RENTED_BIKE_COUNT \n",
    "                 FROM SEOUL_BIKE_SHARING \n",
    "                 WHERE RENTED_BIKE_COUNT = (SELECT MAX(RENTED_BIKE_COUNT) \n",
    "                                           FROM SEOUL_BIKE_SHARING)\")"
   ]
  },
  {
   "cell_type": "markdown",
   "metadata": {},
   "source": [
    "## Task 7 - Hourly popularity and temperature by season\n",
    "#### Determine the average hourly temperature and the average number of bike rentals per hour over each season. List the top ten results by average bike count.\n"
   ]
  },
  {
   "cell_type": "markdown",
   "metadata": {},
   "source": [
    "### Solution 7\n"
   ]
  },
  {
   "cell_type": "code",
   "execution_count": 18,
   "metadata": {},
   "outputs": [
    {
     "data": {
      "text/html": [
       "<table class=\"dataframe\">\n",
       "<caption>A data.frame: 10 × 4</caption>\n",
       "<thead>\n",
       "\t<tr><th scope=col>SEASONS</th><th scope=col>HOUR</th><th scope=col>avg_temp</th><th scope=col>avg_bike_count</th></tr>\n",
       "\t<tr><th scope=col>&lt;chr&gt;</th><th scope=col>&lt;dbl&gt;</th><th scope=col>&lt;dbl&gt;</th><th scope=col>&lt;dbl&gt;</th></tr>\n",
       "</thead>\n",
       "<tbody>\n",
       "\t<tr><td>Summer</td><td>18</td><td>29.38791</td><td>2135.141</td></tr>\n",
       "\t<tr><td>Autumn</td><td>18</td><td>16.03185</td><td>1983.333</td></tr>\n",
       "\t<tr><td>Summer</td><td>19</td><td>28.27378</td><td>1889.250</td></tr>\n",
       "\t<tr><td>Summer</td><td>20</td><td>27.06630</td><td>1801.924</td></tr>\n",
       "\t<tr><td>Summer</td><td>21</td><td>26.27826</td><td>1754.065</td></tr>\n",
       "\t<tr><td>Spring</td><td>18</td><td>15.97222</td><td>1689.311</td></tr>\n",
       "\t<tr><td>Summer</td><td>22</td><td>25.69891</td><td>1567.870</td></tr>\n",
       "\t<tr><td>Autumn</td><td>17</td><td>17.27778</td><td>1562.877</td></tr>\n",
       "\t<tr><td>Summer</td><td>17</td><td>30.07691</td><td>1526.293</td></tr>\n",
       "\t<tr><td>Autumn</td><td>19</td><td>15.06346</td><td>1515.568</td></tr>\n",
       "</tbody>\n",
       "</table>\n"
      ],
      "text/latex": [
       "A data.frame: 10 × 4\n",
       "\\begin{tabular}{llll}\n",
       " SEASONS & HOUR & avg\\_temp & avg\\_bike\\_count\\\\\n",
       " <chr> & <dbl> & <dbl> & <dbl>\\\\\n",
       "\\hline\n",
       "\t Summer & 18 & 29.38791 & 2135.141\\\\\n",
       "\t Autumn & 18 & 16.03185 & 1983.333\\\\\n",
       "\t Summer & 19 & 28.27378 & 1889.250\\\\\n",
       "\t Summer & 20 & 27.06630 & 1801.924\\\\\n",
       "\t Summer & 21 & 26.27826 & 1754.065\\\\\n",
       "\t Spring & 18 & 15.97222 & 1689.311\\\\\n",
       "\t Summer & 22 & 25.69891 & 1567.870\\\\\n",
       "\t Autumn & 17 & 17.27778 & 1562.877\\\\\n",
       "\t Summer & 17 & 30.07691 & 1526.293\\\\\n",
       "\t Autumn & 19 & 15.06346 & 1515.568\\\\\n",
       "\\end{tabular}\n"
      ],
      "text/markdown": [
       "\n",
       "A data.frame: 10 × 4\n",
       "\n",
       "| SEASONS &lt;chr&gt; | HOUR &lt;dbl&gt; | avg_temp &lt;dbl&gt; | avg_bike_count &lt;dbl&gt; |\n",
       "|---|---|---|---|\n",
       "| Summer | 18 | 29.38791 | 2135.141 |\n",
       "| Autumn | 18 | 16.03185 | 1983.333 |\n",
       "| Summer | 19 | 28.27378 | 1889.250 |\n",
       "| Summer | 20 | 27.06630 | 1801.924 |\n",
       "| Summer | 21 | 26.27826 | 1754.065 |\n",
       "| Spring | 18 | 15.97222 | 1689.311 |\n",
       "| Summer | 22 | 25.69891 | 1567.870 |\n",
       "| Autumn | 17 | 17.27778 | 1562.877 |\n",
       "| Summer | 17 | 30.07691 | 1526.293 |\n",
       "| Autumn | 19 | 15.06346 | 1515.568 |\n",
       "\n"
      ],
      "text/plain": [
       "   SEASONS HOUR avg_temp avg_bike_count\n",
       "1  Summer  18   29.38791 2135.141      \n",
       "2  Autumn  18   16.03185 1983.333      \n",
       "3  Summer  19   28.27378 1889.250      \n",
       "4  Summer  20   27.06630 1801.924      \n",
       "5  Summer  21   26.27826 1754.065      \n",
       "6  Spring  18   15.97222 1689.311      \n",
       "7  Summer  22   25.69891 1567.870      \n",
       "8  Autumn  17   17.27778 1562.877      \n",
       "9  Summer  17   30.07691 1526.293      \n",
       "10 Autumn  19   15.06346 1515.568      "
      ]
     },
     "metadata": {},
     "output_type": "display_data"
    }
   ],
   "source": [
    "# provide your solution here\n",
    "dbGetQuery(conn, \"SELECT SEASONS, HOUR, \n",
    "                        AVG(TEMPERATURE) AS avg_temp, \n",
    "                        AVG(RENTED_BIKE_COUNT) AS avg_bike_count \n",
    "                 FROM SEOUL_BIKE_SHARING \n",
    "                 GROUP BY SEASONS, HOUR \n",
    "                 ORDER BY avg_bike_count DESC \n",
    "                 LIMIT 10\")"
   ]
  },
  {
   "cell_type": "markdown",
   "metadata": {},
   "source": [
    "## Task 8 - Rental Seasonality\n",
    "#### Find the average hourly bike count during each season. \n",
    "Also include the minimum, maximum, and standard deviation of the hourly bike count for each season. \n",
    "\n",
    "> Hint : Use the SQRT(AVG(col*col) - AVG(col)*AVG(col) ) function where col refers to your column name for finding the standard deviation\n"
   ]
  },
  {
   "cell_type": "markdown",
   "metadata": {},
   "source": [
    "### Solution 8\n"
   ]
  },
  {
   "cell_type": "code",
   "execution_count": 19,
   "metadata": {},
   "outputs": [
    {
     "data": {
      "text/html": [
       "<table class=\"dataframe\">\n",
       "<caption>A data.frame: 4 × 5</caption>\n",
       "<thead>\n",
       "\t<tr><th scope=col>SEASONS</th><th scope=col>avg_bike_count</th><th scope=col>min_bike_count</th><th scope=col>max_bike_count</th><th scope=col>std_dev</th></tr>\n",
       "\t<tr><th scope=col>&lt;chr&gt;</th><th scope=col>&lt;dbl&gt;</th><th scope=col>&lt;dbl&gt;</th><th scope=col>&lt;dbl&gt;</th><th scope=col>&lt;dbl&gt;</th></tr>\n",
       "</thead>\n",
       "<tbody>\n",
       "\t<tr><td>Autumn</td><td> 924.1105</td><td>2</td><td>3298</td><td>617.3885</td></tr>\n",
       "\t<tr><td>Spring</td><td> 746.2542</td><td>2</td><td>3251</td><td>618.5247</td></tr>\n",
       "\t<tr><td>Summer</td><td>1034.0734</td><td>9</td><td>3556</td><td>690.0884</td></tr>\n",
       "\t<tr><td>Winter</td><td> 225.5412</td><td>3</td><td> 937</td><td>150.3374</td></tr>\n",
       "</tbody>\n",
       "</table>\n"
      ],
      "text/latex": [
       "A data.frame: 4 × 5\n",
       "\\begin{tabular}{lllll}\n",
       " SEASONS & avg\\_bike\\_count & min\\_bike\\_count & max\\_bike\\_count & std\\_dev\\\\\n",
       " <chr> & <dbl> & <dbl> & <dbl> & <dbl>\\\\\n",
       "\\hline\n",
       "\t Autumn &  924.1105 & 2 & 3298 & 617.3885\\\\\n",
       "\t Spring &  746.2542 & 2 & 3251 & 618.5247\\\\\n",
       "\t Summer & 1034.0734 & 9 & 3556 & 690.0884\\\\\n",
       "\t Winter &  225.5412 & 3 &  937 & 150.3374\\\\\n",
       "\\end{tabular}\n"
      ],
      "text/markdown": [
       "\n",
       "A data.frame: 4 × 5\n",
       "\n",
       "| SEASONS &lt;chr&gt; | avg_bike_count &lt;dbl&gt; | min_bike_count &lt;dbl&gt; | max_bike_count &lt;dbl&gt; | std_dev &lt;dbl&gt; |\n",
       "|---|---|---|---|---|\n",
       "| Autumn |  924.1105 | 2 | 3298 | 617.3885 |\n",
       "| Spring |  746.2542 | 2 | 3251 | 618.5247 |\n",
       "| Summer | 1034.0734 | 9 | 3556 | 690.0884 |\n",
       "| Winter |  225.5412 | 3 |  937 | 150.3374 |\n",
       "\n"
      ],
      "text/plain": [
       "  SEASONS avg_bike_count min_bike_count max_bike_count std_dev \n",
       "1 Autumn   924.1105      2              3298           617.3885\n",
       "2 Spring   746.2542      2              3251           618.5247\n",
       "3 Summer  1034.0734      9              3556           690.0884\n",
       "4 Winter   225.5412      3               937           150.3374"
      ]
     },
     "metadata": {},
     "output_type": "display_data"
    }
   ],
   "source": [
    "# provide your solution here\n",
    "dbGetQuery(conn, \"SELECT SEASONS, \n",
    "                        AVG(RENTED_BIKE_COUNT) AS avg_bike_count,\n",
    "                        MIN(RENTED_BIKE_COUNT) AS min_bike_count,\n",
    "                        MAX(RENTED_BIKE_COUNT) AS max_bike_count,\n",
    "                        SQRT(AVG(RENTED_BIKE_COUNT*RENTED_BIKE_COUNT) - AVG(RENTED_BIKE_COUNT)*AVG(RENTED_BIKE_COUNT)) AS std_dev\n",
    "                 FROM SEOUL_BIKE_SHARING \n",
    "                 GROUP BY SEASONS\")"
   ]
  },
  {
   "cell_type": "markdown",
   "metadata": {},
   "source": [
    "Let's explore a bit and see what might be the most significant contributing factors in terms of the provided data.\n"
   ]
  },
  {
   "cell_type": "markdown",
   "metadata": {},
   "source": [
    "## Task 9 - Weather Seasonality\n",
    "#### Consider the weather over each season. On average, what were the TEMPERATURE, HUMIDITY, WIND_SPEED, VISIBILITY, DEW_POINT_TEMPERATURE, SOLAR_RADIATION, RAINFALL, and SNOWFALL per season?\n",
    "Include the average bike count as well , and rank the results by average bike count so you can see if it is correlated with the weather at all. \n"
   ]
  },
  {
   "cell_type": "markdown",
   "metadata": {},
   "source": [
    "### Solution 9\n"
   ]
  },
  {
   "cell_type": "code",
   "execution_count": 20,
   "metadata": {},
   "outputs": [
    {
     "data": {
      "text/html": [
       "<table class=\"dataframe\">\n",
       "<caption>A data.frame: 4 × 10</caption>\n",
       "<thead>\n",
       "\t<tr><th scope=col>SEASONS</th><th scope=col>avg_temp</th><th scope=col>avg_humidity</th><th scope=col>avg_wind_speed</th><th scope=col>avg_visibility</th><th scope=col>avg_dew_point</th><th scope=col>avg_solar_rad</th><th scope=col>avg_rainfall</th><th scope=col>avg_snowfall</th><th scope=col>avg_bike_count</th></tr>\n",
       "\t<tr><th scope=col>&lt;chr&gt;</th><th scope=col>&lt;dbl&gt;</th><th scope=col>&lt;dbl&gt;</th><th scope=col>&lt;dbl&gt;</th><th scope=col>&lt;dbl&gt;</th><th scope=col>&lt;dbl&gt;</th><th scope=col>&lt;dbl&gt;</th><th scope=col>&lt;dbl&gt;</th><th scope=col>&lt;dbl&gt;</th><th scope=col>&lt;dbl&gt;</th></tr>\n",
       "</thead>\n",
       "<tbody>\n",
       "\t<tr><td>Summer</td><td>26.587711</td><td>64.98143</td><td>1.609420</td><td>1501.745</td><td> 18.750136</td><td>0.7612545</td><td>0.25348732</td><td>0.00000000</td><td>1034.0734</td></tr>\n",
       "\t<tr><td>Autumn</td><td>13.821580</td><td>59.04491</td><td>1.492101</td><td>1558.174</td><td>  5.150594</td><td>0.5227827</td><td>0.11765617</td><td>0.06350026</td><td> 924.1105</td></tr>\n",
       "\t<tr><td>Spring</td><td>13.021685</td><td>58.75833</td><td>1.857778</td><td>1240.912</td><td>  4.091389</td><td>0.6803009</td><td>0.18694444</td><td>0.00000000</td><td> 746.2542</td></tr>\n",
       "\t<tr><td>Winter</td><td>-2.540463</td><td>49.74491</td><td>1.922685</td><td>1445.987</td><td>-12.416667</td><td>0.2981806</td><td>0.03282407</td><td>0.24750000</td><td> 225.5412</td></tr>\n",
       "</tbody>\n",
       "</table>\n"
      ],
      "text/latex": [
       "A data.frame: 4 × 10\n",
       "\\begin{tabular}{llllllllll}\n",
       " SEASONS & avg\\_temp & avg\\_humidity & avg\\_wind\\_speed & avg\\_visibility & avg\\_dew\\_point & avg\\_solar\\_rad & avg\\_rainfall & avg\\_snowfall & avg\\_bike\\_count\\\\\n",
       " <chr> & <dbl> & <dbl> & <dbl> & <dbl> & <dbl> & <dbl> & <dbl> & <dbl> & <dbl>\\\\\n",
       "\\hline\n",
       "\t Summer & 26.587711 & 64.98143 & 1.609420 & 1501.745 &  18.750136 & 0.7612545 & 0.25348732 & 0.00000000 & 1034.0734\\\\\n",
       "\t Autumn & 13.821580 & 59.04491 & 1.492101 & 1558.174 &   5.150594 & 0.5227827 & 0.11765617 & 0.06350026 &  924.1105\\\\\n",
       "\t Spring & 13.021685 & 58.75833 & 1.857778 & 1240.912 &   4.091389 & 0.6803009 & 0.18694444 & 0.00000000 &  746.2542\\\\\n",
       "\t Winter & -2.540463 & 49.74491 & 1.922685 & 1445.987 & -12.416667 & 0.2981806 & 0.03282407 & 0.24750000 &  225.5412\\\\\n",
       "\\end{tabular}\n"
      ],
      "text/markdown": [
       "\n",
       "A data.frame: 4 × 10\n",
       "\n",
       "| SEASONS &lt;chr&gt; | avg_temp &lt;dbl&gt; | avg_humidity &lt;dbl&gt; | avg_wind_speed &lt;dbl&gt; | avg_visibility &lt;dbl&gt; | avg_dew_point &lt;dbl&gt; | avg_solar_rad &lt;dbl&gt; | avg_rainfall &lt;dbl&gt; | avg_snowfall &lt;dbl&gt; | avg_bike_count &lt;dbl&gt; |\n",
       "|---|---|---|---|---|---|---|---|---|---|\n",
       "| Summer | 26.587711 | 64.98143 | 1.609420 | 1501.745 |  18.750136 | 0.7612545 | 0.25348732 | 0.00000000 | 1034.0734 |\n",
       "| Autumn | 13.821580 | 59.04491 | 1.492101 | 1558.174 |   5.150594 | 0.5227827 | 0.11765617 | 0.06350026 |  924.1105 |\n",
       "| Spring | 13.021685 | 58.75833 | 1.857778 | 1240.912 |   4.091389 | 0.6803009 | 0.18694444 | 0.00000000 |  746.2542 |\n",
       "| Winter | -2.540463 | 49.74491 | 1.922685 | 1445.987 | -12.416667 | 0.2981806 | 0.03282407 | 0.24750000 |  225.5412 |\n",
       "\n"
      ],
      "text/plain": [
       "  SEASONS avg_temp  avg_humidity avg_wind_speed avg_visibility avg_dew_point\n",
       "1 Summer  26.587711 64.98143     1.609420       1501.745        18.750136   \n",
       "2 Autumn  13.821580 59.04491     1.492101       1558.174         5.150594   \n",
       "3 Spring  13.021685 58.75833     1.857778       1240.912         4.091389   \n",
       "4 Winter  -2.540463 49.74491     1.922685       1445.987       -12.416667   \n",
       "  avg_solar_rad avg_rainfall avg_snowfall avg_bike_count\n",
       "1 0.7612545     0.25348732   0.00000000   1034.0734     \n",
       "2 0.5227827     0.11765617   0.06350026    924.1105     \n",
       "3 0.6803009     0.18694444   0.00000000    746.2542     \n",
       "4 0.2981806     0.03282407   0.24750000    225.5412     "
      ]
     },
     "metadata": {},
     "output_type": "display_data"
    }
   ],
   "source": [
    "# provide your solution here\n",
    "dbGetQuery(conn, \"SELECT SEASONS, \n",
    "                        AVG(TEMPERATURE) AS avg_temp,\n",
    "                        AVG(HUMIDITY) AS avg_humidity,\n",
    "                        AVG(WIND_SPEED) AS avg_wind_speed,\n",
    "                        AVG(VISIBILITY) AS avg_visibility,\n",
    "                        AVG(DEW_POINT_TEMPERATURE) AS avg_dew_point,\n",
    "                        AVG(SOLAR_RADIATION) AS avg_solar_rad,\n",
    "                        AVG(RAINFALL) AS avg_rainfall,\n",
    "                        AVG(SNOWFALL) AS avg_snowfall,\n",
    "                        AVG(RENTED_BIKE_COUNT) AS avg_bike_count\n",
    "                 FROM SEOUL_BIKE_SHARING\n",
    "                 GROUP BY SEASONS\n",
    "                 ORDER BY avg_bike_count DESC\")"
   ]
  },
  {
   "cell_type": "markdown",
   "metadata": {},
   "source": [
    "## Task 10 - Total Bike Count and City Info for Seoul\n",
    "#### Use an implicit join across the WORLD_CITIES and the BIKE_SHARING_SYSTEMS tables to determine the total number of bikes avaialble in Seoul, plus the following city information about Seoul: CITY, COUNTRY, LAT, LON, POPULATION, in a single view.\n",
    "Notice that in this case, the CITY column will work for the WORLD_CITIES table, but in general you would have to use the CITY_ASCII column.\n"
   ]
  },
  {
   "cell_type": "markdown",
   "metadata": {},
   "source": [
    "### Solution 10\n"
   ]
  },
  {
   "cell_type": "code",
   "execution_count": 21,
   "metadata": {},
   "outputs": [
    {
     "data": {
      "text/html": [
       "<table class=\"dataframe\">\n",
       "<caption>A data.frame: 1 × 6</caption>\n",
       "<thead>\n",
       "\t<tr><th scope=col>CITY</th><th scope=col>COUNTRY</th><th scope=col>LAT</th><th scope=col>LNG</th><th scope=col>POPULATION</th><th scope=col>BICYCLES</th></tr>\n",
       "\t<tr><th scope=col>&lt;chr&gt;</th><th scope=col>&lt;chr&gt;</th><th scope=col>&lt;dbl&gt;</th><th scope=col>&lt;dbl&gt;</th><th scope=col>&lt;dbl&gt;</th><th scope=col>&lt;dbl&gt;</th></tr>\n",
       "</thead>\n",
       "<tbody>\n",
       "\t<tr><td>Seoul</td><td>Korea, South</td><td>37.5833</td><td>127</td><td>21794000</td><td>20000</td></tr>\n",
       "</tbody>\n",
       "</table>\n"
      ],
      "text/latex": [
       "A data.frame: 1 × 6\n",
       "\\begin{tabular}{llllll}\n",
       " CITY & COUNTRY & LAT & LNG & POPULATION & BICYCLES\\\\\n",
       " <chr> & <chr> & <dbl> & <dbl> & <dbl> & <dbl>\\\\\n",
       "\\hline\n",
       "\t Seoul & Korea, South & 37.5833 & 127 & 21794000 & 20000\\\\\n",
       "\\end{tabular}\n"
      ],
      "text/markdown": [
       "\n",
       "A data.frame: 1 × 6\n",
       "\n",
       "| CITY &lt;chr&gt; | COUNTRY &lt;chr&gt; | LAT &lt;dbl&gt; | LNG &lt;dbl&gt; | POPULATION &lt;dbl&gt; | BICYCLES &lt;dbl&gt; |\n",
       "|---|---|---|---|---|---|\n",
       "| Seoul | Korea, South | 37.5833 | 127 | 21794000 | 20000 |\n",
       "\n"
      ],
      "text/plain": [
       "  CITY  COUNTRY      LAT     LNG POPULATION BICYCLES\n",
       "1 Seoul Korea, South 37.5833 127 21794000   20000   "
      ]
     },
     "metadata": {},
     "output_type": "display_data"
    }
   ],
   "source": [
    "# provide your solution here\n",
    "dbGetQuery(conn, \"SELECT w.CITY, w.COUNTRY, w.LAT, w.LNG, w.POPULATION, b.BICYCLES\n",
    "                 FROM WORLD_CITIES w, BIKE_SHARING_SYSTEMS b\n",
    "                 WHERE w.CITY = b.CITY AND w.CITY = 'Seoul'\")"
   ]
  },
  {
   "cell_type": "markdown",
   "metadata": {},
   "source": [
    "## Task 11 - Find all city names and coordinates with comparable bike scale to Seoul's bike sharing system\n",
    "#### Find all cities with total bike counts between 15000 and 20000. Return the city and country names, plus the coordinates (LAT, LNG), population, and number of bicycles for each city.\n",
    "Later we will ask you to visualize these similar cities on leaflet, with some weather data.\n"
   ]
  },
  {
   "cell_type": "markdown",
   "metadata": {},
   "source": [
    "### Solution 11\n"
   ]
  },
  {
   "cell_type": "code",
   "execution_count": 22,
   "metadata": {},
   "outputs": [
    {
     "data": {
      "text/html": [
       "<table class=\"dataframe\">\n",
       "<caption>A data.frame: 6 × 6</caption>\n",
       "<thead>\n",
       "\t<tr><th scope=col>CITY</th><th scope=col>COUNTRY</th><th scope=col>LAT</th><th scope=col>LNG</th><th scope=col>POPULATION</th><th scope=col>BICYCLES</th></tr>\n",
       "\t<tr><th scope=col>&lt;chr&gt;</th><th scope=col>&lt;chr&gt;</th><th scope=col>&lt;dbl&gt;</th><th scope=col>&lt;dbl&gt;</th><th scope=col>&lt;dbl&gt;</th><th scope=col>&lt;dbl&gt;</th></tr>\n",
       "</thead>\n",
       "<tbody>\n",
       "\t<tr><td>Beijing </td><td>China       </td><td>39.9050</td><td>116.3914</td><td>19433000</td><td>16000</td></tr>\n",
       "\t<tr><td>Ningbo  </td><td>China       </td><td>29.8750</td><td>121.5492</td><td> 7639000</td><td>15000</td></tr>\n",
       "\t<tr><td>Shanghai</td><td>China       </td><td>31.1667</td><td>121.4667</td><td>22120000</td><td>19165</td></tr>\n",
       "\t<tr><td>Weifang </td><td>China       </td><td>36.7167</td><td>119.1000</td><td> 9373000</td><td>20000</td></tr>\n",
       "\t<tr><td>Zhuzhou </td><td>China       </td><td>27.8407</td><td>113.1469</td><td> 3855609</td><td>20000</td></tr>\n",
       "\t<tr><td>Seoul   </td><td>Korea, South</td><td>37.5833</td><td>127.0000</td><td>21794000</td><td>20000</td></tr>\n",
       "</tbody>\n",
       "</table>\n"
      ],
      "text/latex": [
       "A data.frame: 6 × 6\n",
       "\\begin{tabular}{llllll}\n",
       " CITY & COUNTRY & LAT & LNG & POPULATION & BICYCLES\\\\\n",
       " <chr> & <chr> & <dbl> & <dbl> & <dbl> & <dbl>\\\\\n",
       "\\hline\n",
       "\t Beijing  & China        & 39.9050 & 116.3914 & 19433000 & 16000\\\\\n",
       "\t Ningbo   & China        & 29.8750 & 121.5492 &  7639000 & 15000\\\\\n",
       "\t Shanghai & China        & 31.1667 & 121.4667 & 22120000 & 19165\\\\\n",
       "\t Weifang  & China        & 36.7167 & 119.1000 &  9373000 & 20000\\\\\n",
       "\t Zhuzhou  & China        & 27.8407 & 113.1469 &  3855609 & 20000\\\\\n",
       "\t Seoul    & Korea, South & 37.5833 & 127.0000 & 21794000 & 20000\\\\\n",
       "\\end{tabular}\n"
      ],
      "text/markdown": [
       "\n",
       "A data.frame: 6 × 6\n",
       "\n",
       "| CITY &lt;chr&gt; | COUNTRY &lt;chr&gt; | LAT &lt;dbl&gt; | LNG &lt;dbl&gt; | POPULATION &lt;dbl&gt; | BICYCLES &lt;dbl&gt; |\n",
       "|---|---|---|---|---|---|\n",
       "| Beijing  | China        | 39.9050 | 116.3914 | 19433000 | 16000 |\n",
       "| Ningbo   | China        | 29.8750 | 121.5492 |  7639000 | 15000 |\n",
       "| Shanghai | China        | 31.1667 | 121.4667 | 22120000 | 19165 |\n",
       "| Weifang  | China        | 36.7167 | 119.1000 |  9373000 | 20000 |\n",
       "| Zhuzhou  | China        | 27.8407 | 113.1469 |  3855609 | 20000 |\n",
       "| Seoul    | Korea, South | 37.5833 | 127.0000 | 21794000 | 20000 |\n",
       "\n"
      ],
      "text/plain": [
       "  CITY     COUNTRY      LAT     LNG      POPULATION BICYCLES\n",
       "1 Beijing  China        39.9050 116.3914 19433000   16000   \n",
       "2 Ningbo   China        29.8750 121.5492  7639000   15000   \n",
       "3 Shanghai China        31.1667 121.4667 22120000   19165   \n",
       "4 Weifang  China        36.7167 119.1000  9373000   20000   \n",
       "5 Zhuzhou  China        27.8407 113.1469  3855609   20000   \n",
       "6 Seoul    Korea, South 37.5833 127.0000 21794000   20000   "
      ]
     },
     "metadata": {},
     "output_type": "display_data"
    }
   ],
   "source": [
    "# provide your solution here\n",
    "dbGetQuery(conn, \"SELECT w.CITY, w.COUNTRY, w.LAT, w.LNG, w.POPULATION, b.BICYCLES\n",
    "                 FROM WORLD_CITIES w, BIKE_SHARING_SYSTEMS b\n",
    "                 WHERE w.CITY = b.CITY AND b.BICYCLES BETWEEN 15000 AND 20000\")"
   ]
  },
  {
   "cell_type": "code",
   "execution_count": null,
   "metadata": {},
   "outputs": [],
   "source": [
    "close(conn)"
   ]
  },
  {
   "cell_type": "markdown",
   "metadata": {},
   "source": [
    "## Author(s)\n",
    "\n",
    "<h4> Jeff Grossman </h4>\n",
    "<h4> Lakshmi Holla </h4>\n",
    "\n",
    "\n",
    "## Other Contributor(s)\n",
    "\n",
    "<h4>  Malika Singla </h4>\n",
    "\n",
    "<!--## Change log\n",
    "\n",
    "| Date (YYYY-MM-DD) | Version | Changed By | Change Description                 |\n",
    "| ----------------- | ------- | ---------- | ---------------------------------- |\n",
    "| 2022-03-03        | 1.0     |Lakshmi Holla  | Created lab using sqlite3          |-->\n",
    "\n",
    "## <h3 align=\"center\"> © IBM Corporation 2022. All rights reserved. <h3/>\n"
   ]
  },
  {
   "cell_type": "code",
   "execution_count": null,
   "metadata": {},
   "outputs": [],
   "source": []
  }
 ],
 "metadata": {
  "kernelspec": {
   "display_name": "R",
   "language": "R",
   "name": "ir"
  },
  "language_info": {
   "codemirror_mode": "r",
   "file_extension": ".r",
   "mimetype": "text/x-r-source",
   "name": "R",
   "pygments_lexer": "r",
   "version": "4.4.2"
  },
  "prev_pub_hash": "a1035d2263d59b4555fbf1de2034910a6356cb94ee9658cc0c379ead18c4444c"
 },
 "nbformat": 4,
 "nbformat_minor": 4
}
